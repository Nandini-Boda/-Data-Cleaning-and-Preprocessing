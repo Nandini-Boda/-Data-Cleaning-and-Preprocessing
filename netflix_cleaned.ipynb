{
  "nbformat": 4,
  "nbformat_minor": 0,
  "metadata": {
    "colab": {
      "provenance": []
    },
    "kernelspec": {
      "name": "python3",
      "display_name": "Python 3"
    },
    "language_info": {
      "name": "python"
    }
  },
  "cells": [
    {
      "cell_type": "code",
      "execution_count": null,
      "metadata": {
        "id": "55iWmHu-ZG_3"
      },
      "outputs": [],
      "source": [
        "import pandas as pd\n",
        "import numpy as np\n",
        "import re"
      ]
    },
    {
      "cell_type": "code",
      "source": [
        "df = pd.read_csv('/content/netflix_titles (2).csv', encoding='ISO-8859-1')\n"
      ],
      "metadata": {
        "id": "MnZuboUcZPQm"
      },
      "execution_count": null,
      "outputs": []
    },
    {
      "cell_type": "code",
      "source": [
        "df = df.loc[:, ~df.columns.str.contains('^Unnamed')]\n",
        "df = df.drop(columns=['Column1'], errors='ignore')\n"
      ],
      "metadata": {
        "id": "q_JTxGICZR0I"
      },
      "execution_count": null,
      "outputs": []
    },
    {
      "cell_type": "code",
      "source": [
        "# Clean and convert date format\n",
        "df['date_added'] = pd.to_datetime(df['date_added'], errors='coerce', dayfirst=False)\n"
      ],
      "metadata": {
        "colab": {
          "base_uri": "https://localhost:8080/"
        },
        "id": "DBtpRvYcZyaj",
        "outputId": "d9a86352-b750-486e-8500-63b8d06d4327"
      },
      "execution_count": null,
      "outputs": [
        {
          "output_type": "stream",
          "name": "stderr",
          "text": [
            "<ipython-input-5-bc0cd8cfb2f0>:2: UserWarning: Parsing dates in %d-%m-%Y format when dayfirst=False (the default) was specified. Pass `dayfirst=True` or specify a format to silence this warning.\n",
            "  df['date_added'] = pd.to_datetime(df['date_added'], errors='coerce', dayfirst=False)\n"
          ]
        }
      ]
    },
    {
      "cell_type": "code",
      "source": [
        "df['date_added'] = df['date_added'].dt.strftime('%d-%m-%Y')\n"
      ],
      "metadata": {
        "id": "QGJDK37_Z13Z"
      },
      "execution_count": null,
      "outputs": []
    },
    {
      "cell_type": "code",
      "source": [
        "def clean_special_chars(text):\n",
        "    if pd.isna(text):\n",
        "        return text\n",
        "    return re.sub(r'[^A-Za-z0-9\\s,.-]', '', text)\n",
        "\n",
        "text_cols = df.select_dtypes(include='object').columns\n",
        "for col in text_cols:\n",
        "    df[col] = df[col].apply(clean_special_chars)\n"
      ],
      "metadata": {
        "id": "c5CY-fkQZ3-W"
      },
      "execution_count": null,
      "outputs": []
    },
    {
      "cell_type": "code",
      "source": [
        "df = df.drop_duplicates()\n"
      ],
      "metadata": {
        "id": "M0M519PSZ-Tl"
      },
      "execution_count": null,
      "outputs": []
    },
    {
      "cell_type": "code",
      "source": [
        "# Example: fill null in 'country' and 'rating' with mode\n",
        "df['country'].fillna(df['country'].mode()[0], inplace=True)\n",
        "df['rating'].fillna(df['rating'].mode()[0], inplace=True)\n",
        "\n",
        "# Fill missing dates with a fixed value or forward fill\n",
        "df['date_added'].fillna(method='ffill', inplace=True)\n"
      ],
      "metadata": {
        "colab": {
          "base_uri": "https://localhost:8080/"
        },
        "id": "C4DgEuvOaDdA",
        "outputId": "94f61f89-e242-4ce2-9a63-2a7bb43deaba"
      },
      "execution_count": null,
      "outputs": [
        {
          "output_type": "stream",
          "name": "stderr",
          "text": [
            "<ipython-input-10-72a704e08a7c>:2: FutureWarning: A value is trying to be set on a copy of a DataFrame or Series through chained assignment using an inplace method.\n",
            "The behavior will change in pandas 3.0. This inplace method will never work because the intermediate object on which we are setting values always behaves as a copy.\n",
            "\n",
            "For example, when doing 'df[col].method(value, inplace=True)', try using 'df.method({col: value}, inplace=True)' or df[col] = df[col].method(value) instead, to perform the operation inplace on the original object.\n",
            "\n",
            "\n",
            "  df['country'].fillna(df['country'].mode()[0], inplace=True)\n",
            "<ipython-input-10-72a704e08a7c>:3: FutureWarning: A value is trying to be set on a copy of a DataFrame or Series through chained assignment using an inplace method.\n",
            "The behavior will change in pandas 3.0. This inplace method will never work because the intermediate object on which we are setting values always behaves as a copy.\n",
            "\n",
            "For example, when doing 'df[col].method(value, inplace=True)', try using 'df.method({col: value}, inplace=True)' or df[col] = df[col].method(value) instead, to perform the operation inplace on the original object.\n",
            "\n",
            "\n",
            "  df['rating'].fillna(df['rating'].mode()[0], inplace=True)\n",
            "<ipython-input-10-72a704e08a7c>:6: FutureWarning: A value is trying to be set on a copy of a DataFrame or Series through chained assignment using an inplace method.\n",
            "The behavior will change in pandas 3.0. This inplace method will never work because the intermediate object on which we are setting values always behaves as a copy.\n",
            "\n",
            "For example, when doing 'df[col].method(value, inplace=True)', try using 'df.method({col: value}, inplace=True)' or df[col] = df[col].method(value) instead, to perform the operation inplace on the original object.\n",
            "\n",
            "\n",
            "  df['date_added'].fillna(method='ffill', inplace=True)\n",
            "<ipython-input-10-72a704e08a7c>:6: FutureWarning: Series.fillna with 'method' is deprecated and will raise in a future version. Use obj.ffill() or obj.bfill() instead.\n",
            "  df['date_added'].fillna(method='ffill', inplace=True)\n"
          ]
        }
      ]
    },
    {
      "cell_type": "code",
      "source": [
        "df.to_csv('netflix_titles_cleaned.csv', index=False)\n",
        "\n"
      ],
      "metadata": {
        "id": "9tqatlKrZ-0-"
      },
      "execution_count": null,
      "outputs": []
    },
    {
      "cell_type": "code",
      "source": [
        "print(df.head(10))"
      ],
      "metadata": {
        "colab": {
          "base_uri": "https://localhost:8080/"
        },
        "id": "c5Zya86xaHXx",
        "outputId": "da6efcf0-7e80-48ef-b480-baa616de01ac"
      },
      "execution_count": null,
      "outputs": [
        {
          "output_type": "stream",
          "name": "stdout",
          "text": [
            "  show_id     type                            title  \\\n",
            "0      s1    Movie             Dick Johnson Is Dead   \n",
            "1      s2  TV Show                     Blood  Water   \n",
            "2      s3  TV Show                        Ganglands   \n",
            "3      s4  TV Show            Jailbirds New Orleans   \n",
            "4      s5  TV Show                     Kota Factory   \n",
            "5      s6  TV Show                    Midnight Mass   \n",
            "6      s7    Movie  My Little Pony A New Generation   \n",
            "7      s8    Movie                          Sankofa   \n",
            "8      s9  TV Show    The Great British Baking Show   \n",
            "9     s10    Movie                     The Starling   \n",
            "\n",
            "                       director  \\\n",
            "0               Kirsten Johnson   \n",
            "1               Kirsten Johnson   \n",
            "2               Julien Leclercq   \n",
            "3               Julien Leclercq   \n",
            "4               Julien Leclercq   \n",
            "5                 Mike Flanagan   \n",
            "6  Robert Cullen, Jos Luis Ucha   \n",
            "7                  Haile Gerima   \n",
            "8               Andy Devonshire   \n",
            "9                Theodore Melfi   \n",
            "\n",
            "                                                cast  \\\n",
            "0  Ama Qamata, Khosi Ngema, Gail Mabalane, Thaban...   \n",
            "1  Ama Qamata, Khosi Ngema, Gail Mabalane, Thaban...   \n",
            "2  Sami Bouajila, Tracy Gotoas, Samuel Jouy, Nabi...   \n",
            "3  Mayur More, Jitendra Kumar, Ranjan Raj, Alam K...   \n",
            "4  Mayur More, Jitendra Kumar, Ranjan Raj, Alam K...   \n",
            "5  Kate Siegel, Zach Gilford, Hamish Linklater, H...   \n",
            "6  Vanessa Hudgens, Kimiko Glenn, James Marsden, ...   \n",
            "7  Kofi Ghanaba, Oyafunmike Ogunlano, Alexandra D...   \n",
            "8  Mel Giedroyc, Sue Perkins, Mary Berry, Paul Ho...   \n",
            "9  Melissa McCarthy, Chris ODowd, Kevin Kline, Ti...   \n",
            "\n",
            "                                             country  date_added  \\\n",
            "0                                      United States  25-09-2021   \n",
            "1                                       South Africa  24-09-2021   \n",
            "2                                       South Africa  24-09-2021   \n",
            "3                                       South Africa  24-09-2021   \n",
            "4                                              India  24-09-2021   \n",
            "5                                              India  24-09-2021   \n",
            "6                                              India  24-09-2021   \n",
            "7  United States, Ghana, Burkina Faso, United Kin...  24-09-2021   \n",
            "8                                     United Kingdom  24-09-2021   \n",
            "9                                      United States  24-09-2021   \n",
            "\n",
            "   release_year rating   duration  \\\n",
            "0          2020  PG-13     90 min   \n",
            "1          2021  TV-MA  2 Seasons   \n",
            "2          2021  TV-MA   1 Season   \n",
            "3          2021  TV-MA   1 Season   \n",
            "4          2021  TV-MA  2 Seasons   \n",
            "5          2021  TV-MA   1 Season   \n",
            "6          2021     PG     91 min   \n",
            "7          1993  TV-MA    125 min   \n",
            "8          2021  TV-14  9 Seasons   \n",
            "9          2021  PG-13    104 min   \n",
            "\n",
            "                                           listed_in  \\\n",
            "0                                      Documentaries   \n",
            "1    International TV Shows, TV Dramas, TV Mysteries   \n",
            "2  Crime TV Shows, International TV Shows, TV Act...   \n",
            "3                             Docuseries, Reality TV   \n",
            "4  International TV Shows, Romantic TV Shows, TV ...   \n",
            "5                 TV Dramas, TV Horror, TV Mysteries   \n",
            "6                            Children  Family Movies   \n",
            "7   Dramas, Independent Movies, International Movies   \n",
            "8                       British TV Shows, Reality TV   \n",
            "9                                   Comedies, Dramas   \n",
            "\n",
            "                                         description  \\\n",
            "0  As her father nears the end of his life, filmm...   \n",
            "1  After crossing paths at a party, a Cape Town t...   \n",
            "2  To protect his family from a powerful drug lor...   \n",
            "3  Feuds, flirtations and toilet talk go down amo...   \n",
            "4  In a city of coaching centers known to train I...   \n",
            "5  The arrival of a charismatic young priest brin...   \n",
            "6  Equestrias divided. But a bright-eyed hero bel...   \n",
            "7  On a photo shoot in Ghana, an American model s...   \n",
            "8  A talented batch of amateur bakers face off in...   \n",
            "9  A woman adjusting to life after a loss contend...   \n",
            "\n",
            "   1. date conbert september 21,2005  to 25-09-2025 2.rem 4. removed special charavters  3. removed diplicate values 5.removed null values and replae eith approximate values   \n",
            "0                                                NaN                                                                                                                            \n",
            "1                                                NaN                                                                                                                            \n",
            "2                                                NaN                                                                                                                            \n",
            "3                                                NaN                                                                                                                            \n",
            "4                                                NaN                                                                                                                            \n",
            "5                                                NaN                                                                                                                            \n",
            "6                                                NaN                                                                                                                            \n",
            "7                                                NaN                                                                                                                            \n",
            "8                                                NaN                                                                                                                            \n",
            "9                                                NaN                                                                                                                            \n"
          ]
        }
      ]
    },
    {
      "cell_type": "code",
      "source": [],
      "metadata": {
        "id": "J7AdCsWvaUQ4"
      },
      "execution_count": null,
      "outputs": []
    }
  ]
}